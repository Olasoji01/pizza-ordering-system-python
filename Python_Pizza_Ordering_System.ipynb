{
 "cells": [
  {
   "cell_type": "raw",
   "id": "ac8020b1-e1eb-48fd-9799-2429f5da7ae7",
   "metadata": {},
   "source": [
    "Building an automatic pizza order program, based on a user's order, work out their final bill."
   ]
  },
  {
   "cell_type": "code",
   "execution_count": 1,
   "id": "dcba2d0b-7c4f-459d-ac94-f40d1e646d11",
   "metadata": {},
   "outputs": [
    {
     "name": "stdout",
     "output_type": "stream",
     "text": [
      "Welcome to Ola Python Pizza Deliveries\n"
     ]
    },
    {
     "name": "stdin",
     "output_type": "stream",
     "text": [
      "Enter your desired size of pizza(L,M,S) M\n",
      "Do you want to add pepperoni ?(Y/N Y\n",
      "Do you want extra cheese ?(Y/N N\n"
     ]
    },
    {
     "name": "stdout",
     "output_type": "stream",
     "text": [
      "Your final bill is: $23\n"
     ]
    }
   ],
   "source": [
    "''' Small_pizza(S) == $15\n",
    "    Medium_pizza(M) == $20\n",
    "    Large Pizza(L) == $25\n",
    "\n",
    "    Pepperoni for Small Pizza = +$2\n",
    "    Pepperoni for Medium or Large Pizza = +$3'''\n",
    "\n",
    "print('Welcome to Ola Python Pizza Deliveries')\n",
    "\n",
    "size = input('Enter your desired size of pizza(L,M,S)')\n",
    "add_pepperoni = input('Do you want to add pepperoni ?(Y/N')\n",
    "extra_cheese = input('Do you want extra cheese ?(Y/N')\n",
    "\n",
    "# Initialize base price\n",
    "if size == \"S\":\n",
    "    base_price = 15\n",
    "elif size == \"M\":\n",
    "    base_price = 20\n",
    "elif size == \"L\":\n",
    "    base_price = 25\n",
    "else:\n",
    "    print(\"Invalid size. Please try again.\")\n",
    "    exit()\n",
    "\n",
    "# Add pepperoni cost\n",
    "if add_pepperoni == \"Y\":\n",
    "    if size == \"S\":\n",
    "        pepperoni_cost = 2\n",
    "    else:\n",
    "        pepperoni_cost = 3\n",
    "else:\n",
    "    pepperoni_cost = 0\n",
    "\n",
    "# Add extra cheese cost\n",
    "if extra_cheese == \"Y\":\n",
    "    cheese_cost = 1\n",
    "else:\n",
    "    cheese_cost = 0\n",
    "\n",
    "# Calculate final bill\n",
    "final_bill = base_price + pepperoni_cost + cheese_cost\n",
    "\n",
    "\n",
    "# Display final bill\n",
    "print(f\"Your final bill is: ${final_bill}\")"
   ]
  },
  {
   "cell_type": "code",
   "execution_count": null,
   "id": "08f90b08-6434-4652-9680-fa3b88996c60",
   "metadata": {},
   "outputs": [],
   "source": []
  }
 ],
 "metadata": {
  "kernelspec": {
   "display_name": "Python 3 (ipykernel)",
   "language": "python",
   "name": "python3"
  },
  "language_info": {
   "codemirror_mode": {
    "name": "ipython",
    "version": 3
   },
   "file_extension": ".py",
   "mimetype": "text/x-python",
   "name": "python",
   "nbconvert_exporter": "python",
   "pygments_lexer": "ipython3",
   "version": "3.12.7"
  }
 },
 "nbformat": 4,
 "nbformat_minor": 5
}
